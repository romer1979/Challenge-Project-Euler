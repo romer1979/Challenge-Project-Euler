{
 "cells": [
  {
   "cell_type": "markdown",
   "metadata": {},
   "source": [
    "# Multiples of 3 and 5"
   ]
  },
  {
   "cell_type": "code",
   "execution_count": 23,
   "metadata": {},
   "outputs": [
    {
     "name": "stdout",
     "output_type": "stream",
     "text": [
      "33165\n"
     ]
    }
   ],
   "source": [
    "sum_ = 0\n",
    "for i in range(1, 1000):\n",
    "    if (i % 3 == 0 | i % 5 == 0):\n",
    "        sum_ = sum_ + i\n",
    "print(sum_)"
   ]
  },
  {
   "cell_type": "markdown",
   "metadata": {},
   "source": [
    "# Even Fibonacci numbers"
   ]
  },
  {
   "cell_type": "code",
   "execution_count": 31,
   "metadata": {},
   "outputs": [
    {
     "name": "stdout",
     "output_type": "stream",
     "text": [
      "4613732\n"
     ]
    }
   ],
   "source": [
    "a = 1\n",
    "b = 1\n",
    "c = 0\n",
    "sum_ = 0\n",
    "\n",
    "while c < 4000000:\n",
    "    c = a + b\n",
    "    if c % 2 == 0:\n",
    "        sum_+= c\n",
    "    else:\n",
    "        None\n",
    "    a = b\n",
    "    b = c\n",
    "\n",
    "print (sum_)"
   ]
  },
  {
   "cell_type": "markdown",
   "metadata": {},
   "source": [
    "# Largest prime factor"
   ]
  },
  {
   "cell_type": "code",
   "execution_count": 34,
   "metadata": {},
   "outputs": [
    {
     "name": "stdout",
     "output_type": "stream",
     "text": [
      "6857\n"
     ]
    }
   ],
   "source": [
    "number = 600851475143 \n",
    "i = 2\n",
    "while i * i < number:\n",
    "    while number % i == 0:\n",
    "        number = number // i\n",
    "    i = i + 1\n",
    "print(number)"
   ]
  },
  {
   "cell_type": "markdown",
   "metadata": {},
   "source": [
    "# Largest palindrome product"
   ]
  },
  {
   "cell_type": "code",
   "execution_count": 44,
   "metadata": {},
   "outputs": [
    {
     "name": "stdout",
     "output_type": "stream",
     "text": [
      "906609\n"
     ]
    }
   ],
   "source": [
    "def plaindrome(number):\n",
    "    return str(number) == str(number)[::-1]\n",
    "\n",
    "p = 0\n",
    "for i in range(999, 100, -1):\n",
    "    for j in range(999, 100, -1):\n",
    "        x = i * j\n",
    "        if x > p:\n",
    "            if plaindrome(x):\n",
    "                p = x\n",
    "print(p)"
   ]
  },
  {
   "cell_type": "markdown",
   "metadata": {},
   "source": [
    "# Smallest multiple"
   ]
  },
  {
   "cell_type": "code",
   "execution_count": 136,
   "metadata": {},
   "outputs": [
    {
     "name": "stdout",
     "output_type": "stream",
     "text": [
      "232792560\n"
     ]
    }
   ],
   "source": [
    "from math import gcd\n",
    "def lcm(x,y):\n",
    "    return x * y // gcd(x,y)\n",
    "\n",
    "n = 1\n",
    "for i in range(1, 20):\n",
    "     n = lcm(n, i)\n",
    "print(n)"
   ]
  },
  {
   "cell_type": "markdown",
   "metadata": {},
   "source": [
    "# Sum square difference"
   ]
  },
  {
   "cell_type": "code",
   "execution_count": 139,
   "metadata": {},
   "outputs": [
    {
     "name": "stdout",
     "output_type": "stream",
     "text": [
      "25164150\n"
     ]
    }
   ],
   "source": [
    "sum_square = sum(i**2 for i in range (1,101))\n",
    "square_sum = (sum(range(1,101)))**2\n",
    "print (square_sum - sum_square)"
   ]
  },
  {
   "cell_type": "markdown",
   "metadata": {},
   "source": [
    "# 10001st prime"
   ]
  },
  {
   "cell_type": "code",
   "execution_count": 140,
   "metadata": {},
   "outputs": [
    {
     "name": "stdout",
     "output_type": "stream",
     "text": [
      "1299721\n"
     ]
    }
   ],
   "source": [
    "def nth_prime(n):\n",
    "    counter = 2\n",
    "    for i in range(3, n**2, 2):\n",
    "        k = 1\n",
    "        while k*k < i:\n",
    "            k += 2\n",
    "            if i % k == 0:\n",
    "               break\n",
    "        else:\n",
    "            counter += 1\n",
    "        if counter == n:\n",
    "            return i\n",
    "\n",
    "print(nth_prime(100001))"
   ]
  },
  {
   "cell_type": "markdown",
   "metadata": {},
   "source": [
    "# Largest product in a series"
   ]
  },
  {
   "cell_type": "code",
   "execution_count": 164,
   "metadata": {},
   "outputs": [
    {
     "name": "stdout",
     "output_type": "stream",
     "text": [
      "23514624000\n"
     ]
    }
   ],
   "source": [
    "num = '73167176531330624919225119674426574742355349194934\\\n",
    "96983520312774506326239578318016984801869478851843\\\n",
    "85861560789112949495459501737958331952853208805511\\\n",
    "12540698747158523863050715693290963295227443043557\\\n",
    "66896648950445244523161731856403098711121722383113\\\n",
    "62229893423380308135336276614282806444486645238749\\\n",
    "30358907296290491560440772390713810515859307960866\\\n",
    "70172427121883998797908792274921901699720888093776\\\n",
    "65727333001053367881220235421809751254540594752243\\\n",
    "52584907711670556013604839586446706324415722155397\\\n",
    "53697817977846174064955149290862569321978468622482\\\n",
    "83972241375657056057490261407972968652414535100474\\\n",
    "82166370484403199890008895243450658541227588666881\\\n",
    "16427171479924442928230863465674813919123162824586\\\n",
    "17866458359124566529476545682848912883142607690042\\\n",
    "24219022671055626321111109370544217506941658960408\\\n",
    "07198403850962455444362981230987879927244284909188\\\n",
    "84580156166097919133875499200524063689912560717606\\\n",
    "05886116467109405077541002256983155200055935729725\\\n",
    "71636269561882670428252483600823257530420752963450'\n",
    "\n",
    "greatest = 0\n",
    "i = 0\n",
    "while i < len(num) - 12:\n",
    "    one = int(num[i]) \n",
    "    two = int(num[i+1])  \n",
    "    three = int(num[i+2]) \n",
    "    four = int(num[i+3])\n",
    "    five = int(num[i+4])\n",
    "    six = int(num[i+5])\n",
    "    seven = int(num[i+6])\n",
    "    eight = int(num[i+7])  \n",
    "    nine = int(num[i+8]) \n",
    "    ten = int(num[i+9])\n",
    "    eleven = int(num[i+10])\n",
    "    twelve = int(num[i+11]) \n",
    "    thirteen = int(num[i])  \n",
    "    \n",
    "    product = one*two*three*four*five*six*seven*eight*nine*ten*eleven*twelve*thirteen\n",
    "    if product > greatest:\n",
    "        greatest = product\n",
    "    i = i + 1 \n",
    "print(greatest)"
   ]
  },
  {
   "cell_type": "markdown",
   "metadata": {},
   "source": [
    "# Special Pythagorean triplet"
   ]
  },
  {
   "cell_type": "code",
   "execution_count": 170,
   "metadata": {},
   "outputs": [
    {
     "name": "stdout",
     "output_type": "stream",
     "text": [
      "31875000\n"
     ]
    }
   ],
   "source": [
    "for a in range(1, 1000):\n",
    "     for b in range(a, 1000):\n",
    "            c = 1000 - (a + b)\n",
    "            if c**2 == a**2 + b**2:\n",
    "                print (a*b*c)"
   ]
  },
  {
   "cell_type": "markdown",
   "metadata": {},
   "source": [
    "# Summation of primes"
   ]
  },
  {
   "cell_type": "code",
   "execution_count": 26,
   "metadata": {},
   "outputs": [
    {
     "name": "stdout",
     "output_type": "stream",
     "text": [
      "142913828922\n"
     ]
    }
   ],
   "source": [
    "# number to find summation of all primes below number\n",
    "n = 2000000\n",
    "\n",
    "# create a set excluding even numbers\n",
    "numbers = set(range(3, n + 1, 2)) \n",
    "\n",
    "for number in range(3, int(n ** 0.5) + 1):\n",
    "    if number not in numbers:\n",
    "        #number must have been removed because it has a prime factor\n",
    "        continue\n",
    "\n",
    "    num = number\n",
    "    while num < n:\n",
    "        num += number\n",
    "        if num in numbers:\n",
    "            # Remove multiples of prime found\n",
    "            numbers.remove(num)\n",
    "\n",
    "print (2 + sum(numbers))"
   ]
  }
 ],
 "metadata": {
  "kernelspec": {
   "display_name": "Python 3",
   "language": "python",
   "name": "python3"
  },
  "language_info": {
   "codemirror_mode": {
    "name": "ipython",
    "version": 3
   },
   "file_extension": ".py",
   "mimetype": "text/x-python",
   "name": "python",
   "nbconvert_exporter": "python",
   "pygments_lexer": "ipython3",
   "version": "3.7.3"
  }
 },
 "nbformat": 4,
 "nbformat_minor": 2
}
